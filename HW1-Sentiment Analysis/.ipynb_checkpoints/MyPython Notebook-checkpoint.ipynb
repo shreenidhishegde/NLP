{
 "cells": [
  {
   "cell_type": "markdown",
   "metadata": {},
   "source": [
    "# Dynamic Programming:\n",
    "\n",
    "## Example: Fibonacci series\n",
    "First, let's go with the recursion\n",
    "\n"
   ]
  },
  {
   "cell_type": "code",
   "execution_count": 1,
   "metadata": {},
   "outputs": [],
   "source": [
    "def fib(n):\n",
    "    if n ==1 or n==2:\n",
    "        return 1\n",
    "    else:\n",
    "        return fib(n-1) + fib(n-2)\n",
    "        "
   ]
  },
  {
   "cell_type": "code",
   "execution_count": 2,
   "metadata": {},
   "outputs": [
    {
     "data": {
      "text/plain": [
       "8"
      ]
     },
     "execution_count": 2,
     "metadata": {},
     "output_type": "execute_result"
    }
   ],
   "source": [
    "fib(6)"
   ]
  },
  {
   "cell_type": "markdown",
   "metadata": {},
   "source": [
    "This has a time complexity O(2^n). So, let's use the memoization where we store the value instead of computing it again."
   ]
  },
  {
   "cell_type": "code",
   "execution_count": 13,
   "metadata": {},
   "outputs": [],
   "source": [
    "def findFib(n, memo):\n",
    "    if memo[n] is not None:\n",
    "        return memo[n]\n",
    "    if n==1 or n==2:\n",
    "        result = 1\n",
    "    else:\n",
    "        result = findFib(n-1,memo) + findFib(n-2,memo)\n",
    "    memo[n] = result\n",
    "    return result\n",
    "\n",
    "def fib_memo(n):\n",
    "    memo = [None] * (n + 1)\n",
    "    return findFib(n, memo)\n",
    "    "
   ]
  },
  {
   "cell_type": "code",
   "execution_count": 14,
   "metadata": {},
   "outputs": [
    {
     "data": {
      "text/plain": [
       "5"
      ]
     },
     "execution_count": 14,
     "metadata": {},
     "output_type": "execute_result"
    }
   ],
   "source": [
    "fib_memo(5)"
   ]
  },
  {
   "cell_type": "code",
   "execution_count": 15,
   "metadata": {},
   "outputs": [
    {
     "data": {
      "text/plain": [
       "8"
      ]
     },
     "execution_count": 15,
     "metadata": {},
     "output_type": "execute_result"
    }
   ],
   "source": [
    "fib_memo(6)"
   ]
  },
  {
   "cell_type": "code",
   "execution_count": 16,
   "metadata": {},
   "outputs": [
    {
     "data": {
      "text/plain": [
       "43466557686937456435688527675040625802564660517371780402481729089536555417949051890403879840079255169295922593080322634775209689623239873322471161642996440906533187938298969649928516003704476137795166849228875"
      ]
     },
     "execution_count": 16,
     "metadata": {},
     "output_type": "execute_result"
    }
   ],
   "source": [
    "fib_memo(1000)"
   ]
  },
  {
   "cell_type": "markdown",
   "metadata": {},
   "source": [
    "The time complexity of memoization method is O(n). However, the memoization still has the recursive calls. There is one more approach - bottom up approach."
   ]
  },
  {
   "cell_type": "code",
   "execution_count": 25,
   "metadata": {},
   "outputs": [],
   "source": [
    "def fib_bottom_up(n):\n",
    "    if n==1 or n==2:\n",
    "        return 1\n",
    "    bottom_up = [None] * (n+1)\n",
    "    bottom_up[1] = 1\n",
    "    bottom_up[2] = 1\n",
    "    for i in range(3,n+1):\n",
    "        bottom_up[i] = bottom_up[i-1] + bottom_up[i-2]\n",
    "    return bottom_up[n]\n",
    "        \n",
    "    \n",
    "    "
   ]
  },
  {
   "cell_type": "code",
   "execution_count": 26,
   "metadata": {},
   "outputs": [
    {
     "data": {
      "text/plain": [
       "9227465"
      ]
     },
     "execution_count": 26,
     "metadata": {},
     "output_type": "execute_result"
    }
   ],
   "source": [
    "fib_bottom_up(35)"
   ]
  },
  {
   "cell_type": "markdown",
   "metadata": {},
   "source": [
    "The time complexity of bottom up approach is O(n) as we traverse the array of size n 1 time."
   ]
  },
  {
   "cell_type": "markdown",
   "metadata": {},
   "source": [
    "## Knapsack problem"
   ]
  },
  {
   "cell_type": "markdown",
   "metadata": {},
   "source": [
    "### Recursion approach"
   ]
  },
  {
   "cell_type": "code",
   "execution_count": 1,
   "metadata": {},
   "outputs": [
    {
     "name": "stdout",
     "output_type": "stream",
     "text": [
      "100\n"
     ]
    }
   ],
   "source": [
    "\n",
    "def knapsack(w,v,z,n,memcache):\n",
    "    \n",
    "    if n == 0 or z == 0:\n",
    "        return 0\n",
    "    \n",
    "    if z<0:\n",
    "        return float('-inf')\n",
    "    if  memcache[n-1][z] == -1:\n",
    "        take = knapsack(w,v,z-w[n-1],n-1,memcache) + v[n-1]\n",
    "        dont = knapsack(w,v,z,n-1,memcache) \n",
    "        memcache[n-1][z] = max(take,dont)\n",
    "    return memcache[n-1][z]\n",
    "\n",
    "\n",
    "#driver code\n",
    "w = [1,2,3]\n",
    "v = [60,15,40]\n",
    "z = 5\n",
    "n = len(w)\n",
    "memcache = [[-1]*(z +1) for i in range(n)]\n",
    "result = knapsack(w,v,z,n,memcache)\n",
    "print(result)"
   ]
  },
  {
   "cell_type": "markdown",
   "metadata": {},
   "source": [
    "DP Approach"
   ]
  },
  {
   "cell_type": "code",
   "execution_count": 19,
   "metadata": {},
   "outputs": [
    {
     "name": "stdout",
     "output_type": "stream",
     "text": [
      "100\n"
     ]
    }
   ],
   "source": [
    "\n",
    "    \n",
    "w = [1,2,3]\n",
    "v = [60,15,40]\n",
    "z = 5\n",
    "n = len(w)\n",
    "dp = [[0]*(z+1) for i in range(n+1)]\n",
    "for i in range(n+1):\n",
    "    for j in range(z+1):\n",
    "        if j == 0 or i == 0:\n",
    "            dp[i][j] = 0\n",
    "        elif j-w[i-1]<0:\n",
    "            dp[i][j] = dp[i-1][j]\n",
    "        else:\n",
    "            dp[i][j] = max(dp[i-1][j-w[i-1]]+v[i-1], dp[i-1][j])\n",
    "            \n",
    "            \n",
    "#         elif w[i-1] <= j:\n",
    "#             dp[i][j] = max(dp[i-1][j-w[i-1]]+v[i-1], dp[i-1][j])\n",
    "#         else:\n",
    "#             dp[i][j] = dp[i-1][j]\n",
    "                    \n",
    "        \n",
    "print(dp[n][z])\n",
    "      "
   ]
  },
  {
   "cell_type": "markdown",
   "metadata": {},
   "source": [
    "# Queues:\n",
    "## implementation"
   ]
  },
  {
   "cell_type": "code",
   "execution_count": null,
   "metadata": {},
   "outputs": [],
   "source": [
    "class MyCircularQueue:\n",
    "\n",
    "    def __init__(self):\n",
    "         self.items = [] \n",
    "         self.front = self.rear = 0\n",
    "        \n",
    "    def enQueue(self, value: int) -> bool:  \n",
    "        self.items.append(value)\n",
    "        self.rear +=1\n",
    "          \n",
    "\n",
    "    def deQueue(self) -> bool:\n",
    "        return self.items.pop(0)\n",
    "     \n",
    "    def Front(self) -> int:\n",
    "        if self.items == []:\n",
    "            return -1\n",
    "        return self.items[self.front]\n",
    "        \n",
    "\n",
    "    def Rear(self) -> int:\n",
    "        if self.items == []:\n",
    "            return -1\n",
    "        return(self.rear-1)\n",
    "        return self.items[self.rear-1]\n",
    "        \n",
    "\n",
    "    def isEmpty(self) -> bool:\n",
    "        return self.items == []\n",
    "        \n",
    "    \n",
    "a = MyCircularQueue()\n",
    "a.enQueue(5);\n",
    "a.enQueue(3);\n",
    "a.enQueue(10);\n",
    "print(a.Front())\n",
    "a.deQueue();\n",
    "print(a.Front())\n",
    "\n",
    "\n",
    "\n"
   ]
  },
  {
   "cell_type": "markdown",
   "metadata": {},
   "source": [
    "## circular queues\n"
   ]
  },
  {
   "cell_type": "code",
   "execution_count": 2,
   "metadata": {},
   "outputs": [],
   "source": [
    "class MyCircularQueue:\n",
    "\n",
    "    def __init__(self, k: int):\n",
    "        self.size = k\n",
    "        self.queue = [None for i in range(k)]\n",
    "        self.front = self.rear = 0\n",
    "        self.count = 0\n",
    "        \n",
    "\n",
    "    def enQueue(self, value: int) -> bool:\n",
    "        \n",
    "        if self.size == self.count:\n",
    "            return False\n",
    "        \n",
    "        self.queue[self.rear] = value\n",
    "        self.count +=1\n",
    "        self.rear = (self.rear+1) % self.size\n",
    "        return True\n",
    "          \n",
    "\n",
    "    def deQueue(self) -> bool:\n",
    "        \n",
    "        if self.count == 0:\n",
    "            return False\n",
    "        self.count -=1\n",
    "        self.front = (self.front+1) % self.size\n",
    "        return True\n",
    "        \n",
    "    def Front(self) -> int:\n",
    "        if self.count == 0:\n",
    "            return -1\n",
    "        return self.queue[self.front]\n",
    "        \n",
    "\n",
    "    def Rear(self) -> int:\n",
    "        if self.count == 0:\n",
    "            return -1\n",
    "        return self.queue[self.rear-1]\n",
    "        \n",
    "\n",
    "    def isEmpty(self) -> bool:\n",
    "        if self.count == 0:\n",
    "            return True\n",
    "        return False\n",
    "        \n",
    "\n",
    "    def isFull(self) -> bool:\n",
    "        if self.size == self.count:\n",
    "            return True\n",
    "        return False\n",
    "         \n",
    "        \n",
    "\n",
    "\n",
    "# Your MyCircularQueue object will be instantiated and called as such:\n",
    "# obj = MyCircularQueue(k)\n",
    "# param_1 = obj.enQueue(value)\n",
    "# param_2 = obj.deQueue()\n",
    "# param_3 = obj.Front()\n",
    "# param_4 = obj.Rear()\n",
    "# param_5 = obj.isEmpty()\n",
    "# param_6 = obj.isFull()"
   ]
  },
  {
   "cell_type": "code",
   "execution_count": 3,
   "metadata": {},
   "outputs": [
    {
     "data": {
      "text/plain": [
       "[3, 1]"
      ]
     },
     "execution_count": 3,
     "metadata": {},
     "output_type": "execute_result"
    }
   ],
   "source": [
    "mylist = [3, 1]\n",
    "mylist[-3:]"
   ]
  },
  {
   "cell_type": "code",
   "execution_count": null,
   "metadata": {},
   "outputs": [],
   "source": []
  }
 ],
 "metadata": {
  "kernelspec": {
   "display_name": "Python 3",
   "language": "python",
   "name": "python3"
  },
  "language_info": {
   "codemirror_mode": {
    "name": "ipython",
    "version": 3
   },
   "file_extension": ".py",
   "mimetype": "text/x-python",
   "name": "python",
   "nbconvert_exporter": "python",
   "pygments_lexer": "ipython3",
   "version": "3.8.5"
  }
 },
 "nbformat": 4,
 "nbformat_minor": 4
}
