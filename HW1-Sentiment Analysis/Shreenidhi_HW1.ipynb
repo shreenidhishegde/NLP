{
 "cells": [
  {
   "cell_type": "code",
   "execution_count": 1,
   "metadata": {},
   "outputs": [
    {
     "name": "stderr",
     "output_type": "stream",
     "text": [
      "[nltk_data] Downloading package wordnet to\n",
      "[nltk_data]     /Users/shreenidhihegde/nltk_data...\n",
      "[nltk_data]   Package wordnet is already up-to-date!\n",
      "[nltk_data] Downloading package stopwords to\n",
      "[nltk_data]     /Users/shreenidhihegde/nltk_data...\n",
      "[nltk_data]   Package stopwords is already up-to-date!\n"
     ]
    }
   ],
   "source": [
    "import pandas as pd\n",
    "import numpy as np\n",
    "import nltk\n",
    "nltk.download('wordnet')\n",
    "nltk.download('stopwords')\n",
    "import re\n",
    "from bs4 import BeautifulSoup\n",
    "import contractions\n",
    " "
   ]
  },
  {
   "cell_type": "code",
   "execution_count": 61,
   "metadata": {},
   "outputs": [],
   "source": [
    "#! pip install bs4 # in case you don't have it installed\n",
    "\n",
    "# Dataset: https://s3.amazonaws.com/amazon-reviews-pds/tsv/amazon_reviews_us_Kitchen_v1_00.tsv.gz"
   ]
  },
  {
   "cell_type": "markdown",
   "metadata": {},
   "source": [
    "## Read Data"
   ]
  },
  {
   "cell_type": "code",
   "execution_count": 2,
   "metadata": {},
   "outputs": [
    {
     "name": "stderr",
     "output_type": "stream",
     "text": [
      "/Users/shreenidhihegde/opt/anaconda3/envs/NLP/lib/python3.9/site-packages/IPython/core/interactiveshell.py:3441: FutureWarning: The error_bad_lines argument has been deprecated and will be removed in a future version.\n",
      "\n",
      "\n",
      "  exec(code_obj, self.user_global_ns, self.user_ns)\n",
      "b'Skipping line 16148: expected 15 fields, saw 22\\nSkipping line 20100: expected 15 fields, saw 22\\nSkipping line 45178: expected 15 fields, saw 22\\nSkipping line 48700: expected 15 fields, saw 22\\nSkipping line 63331: expected 15 fields, saw 22\\n'\n",
      "b'Skipping line 86053: expected 15 fields, saw 22\\nSkipping line 88858: expected 15 fields, saw 22\\nSkipping line 115017: expected 15 fields, saw 22\\n'\n",
      "b'Skipping line 137366: expected 15 fields, saw 22\\nSkipping line 139110: expected 15 fields, saw 22\\nSkipping line 165540: expected 15 fields, saw 22\\nSkipping line 171813: expected 15 fields, saw 22\\n'\n",
      "b'Skipping line 203723: expected 15 fields, saw 22\\nSkipping line 209366: expected 15 fields, saw 22\\nSkipping line 211310: expected 15 fields, saw 22\\nSkipping line 246351: expected 15 fields, saw 22\\nSkipping line 252364: expected 15 fields, saw 22\\n'\n",
      "b'Skipping line 267003: expected 15 fields, saw 22\\nSkipping line 268957: expected 15 fields, saw 22\\nSkipping line 303336: expected 15 fields, saw 22\\nSkipping line 306021: expected 15 fields, saw 22\\nSkipping line 311569: expected 15 fields, saw 22\\nSkipping line 316767: expected 15 fields, saw 22\\nSkipping line 324009: expected 15 fields, saw 22\\n'\n",
      "b'Skipping line 359107: expected 15 fields, saw 22\\nSkipping line 368367: expected 15 fields, saw 22\\nSkipping line 381180: expected 15 fields, saw 22\\nSkipping line 390453: expected 15 fields, saw 22\\n'\n",
      "b'Skipping line 412243: expected 15 fields, saw 22\\nSkipping line 419342: expected 15 fields, saw 22\\nSkipping line 457388: expected 15 fields, saw 22\\n'\n",
      "b'Skipping line 459935: expected 15 fields, saw 22\\nSkipping line 460167: expected 15 fields, saw 22\\nSkipping line 466460: expected 15 fields, saw 22\\nSkipping line 500314: expected 15 fields, saw 22\\nSkipping line 500339: expected 15 fields, saw 22\\nSkipping line 505396: expected 15 fields, saw 22\\nSkipping line 507760: expected 15 fields, saw 22\\nSkipping line 513626: expected 15 fields, saw 22\\n'\n",
      "b'Skipping line 527638: expected 15 fields, saw 22\\nSkipping line 534209: expected 15 fields, saw 22\\nSkipping line 535687: expected 15 fields, saw 22\\nSkipping line 547671: expected 15 fields, saw 22\\nSkipping line 549054: expected 15 fields, saw 22\\n'\n",
      "b'Skipping line 599929: expected 15 fields, saw 22\\nSkipping line 604776: expected 15 fields, saw 22\\nSkipping line 609937: expected 15 fields, saw 22\\nSkipping line 632059: expected 15 fields, saw 22\\nSkipping line 638546: expected 15 fields, saw 22\\n'\n",
      "b'Skipping line 665017: expected 15 fields, saw 22\\nSkipping line 677680: expected 15 fields, saw 22\\nSkipping line 684370: expected 15 fields, saw 22\\nSkipping line 720217: expected 15 fields, saw 29\\n'\n",
      "b'Skipping line 723240: expected 15 fields, saw 22\\nSkipping line 723433: expected 15 fields, saw 22\\nSkipping line 763891: expected 15 fields, saw 22\\n'\n",
      "b'Skipping line 800288: expected 15 fields, saw 22\\nSkipping line 802942: expected 15 fields, saw 22\\nSkipping line 803379: expected 15 fields, saw 22\\nSkipping line 805122: expected 15 fields, saw 22\\nSkipping line 821899: expected 15 fields, saw 22\\nSkipping line 831707: expected 15 fields, saw 22\\nSkipping line 842829: expected 15 fields, saw 22\\nSkipping line 843604: expected 15 fields, saw 22\\n'\n",
      "b'Skipping line 863904: expected 15 fields, saw 22\\nSkipping line 875655: expected 15 fields, saw 22\\nSkipping line 886796: expected 15 fields, saw 22\\nSkipping line 892299: expected 15 fields, saw 22\\nSkipping line 902518: expected 15 fields, saw 22\\nSkipping line 903079: expected 15 fields, saw 22\\nSkipping line 912678: expected 15 fields, saw 22\\n'\n",
      "b'Skipping line 932953: expected 15 fields, saw 22\\nSkipping line 936838: expected 15 fields, saw 22\\nSkipping line 937177: expected 15 fields, saw 22\\nSkipping line 947695: expected 15 fields, saw 22\\nSkipping line 960713: expected 15 fields, saw 22\\nSkipping line 965225: expected 15 fields, saw 22\\nSkipping line 980776: expected 15 fields, saw 22\\n'\n",
      "b'Skipping line 999318: expected 15 fields, saw 22\\nSkipping line 1007247: expected 15 fields, saw 22\\nSkipping line 1015987: expected 15 fields, saw 22\\nSkipping line 1018984: expected 15 fields, saw 22\\nSkipping line 1028671: expected 15 fields, saw 22\\n'\n",
      "b'Skipping line 1063360: expected 15 fields, saw 22\\nSkipping line 1066195: expected 15 fields, saw 22\\nSkipping line 1066578: expected 15 fields, saw 22\\nSkipping line 1066869: expected 15 fields, saw 22\\nSkipping line 1068809: expected 15 fields, saw 22\\nSkipping line 1069505: expected 15 fields, saw 22\\nSkipping line 1087983: expected 15 fields, saw 22\\nSkipping line 1108184: expected 15 fields, saw 22\\n'\n",
      "b'Skipping line 1118137: expected 15 fields, saw 22\\nSkipping line 1142723: expected 15 fields, saw 22\\nSkipping line 1152492: expected 15 fields, saw 22\\nSkipping line 1156947: expected 15 fields, saw 22\\nSkipping line 1172563: expected 15 fields, saw 22\\n'\n",
      "b'Skipping line 1209254: expected 15 fields, saw 22\\nSkipping line 1212966: expected 15 fields, saw 22\\nSkipping line 1236533: expected 15 fields, saw 22\\nSkipping line 1237598: expected 15 fields, saw 22\\n'\n",
      "b'Skipping line 1273825: expected 15 fields, saw 22\\nSkipping line 1277898: expected 15 fields, saw 22\\nSkipping line 1283654: expected 15 fields, saw 22\\nSkipping line 1286023: expected 15 fields, saw 22\\nSkipping line 1302038: expected 15 fields, saw 22\\nSkipping line 1305179: expected 15 fields, saw 22\\n'\n",
      "b'Skipping line 1326022: expected 15 fields, saw 22\\nSkipping line 1338120: expected 15 fields, saw 22\\nSkipping line 1338503: expected 15 fields, saw 22\\nSkipping line 1338849: expected 15 fields, saw 22\\nSkipping line 1341513: expected 15 fields, saw 22\\nSkipping line 1346493: expected 15 fields, saw 22\\nSkipping line 1373127: expected 15 fields, saw 22\\n'\n",
      "b'Skipping line 1389508: expected 15 fields, saw 22\\nSkipping line 1413951: expected 15 fields, saw 22\\nSkipping line 1433626: expected 15 fields, saw 22\\n'\n",
      "b'Skipping line 1442698: expected 15 fields, saw 22\\nSkipping line 1472982: expected 15 fields, saw 22\\nSkipping line 1482282: expected 15 fields, saw 22\\nSkipping line 1487808: expected 15 fields, saw 22\\nSkipping line 1500636: expected 15 fields, saw 22\\n'\n",
      "b'Skipping line 1511479: expected 15 fields, saw 22\\nSkipping line 1532302: expected 15 fields, saw 22\\nSkipping line 1537952: expected 15 fields, saw 22\\nSkipping line 1539951: expected 15 fields, saw 22\\nSkipping line 1541020: expected 15 fields, saw 22\\n'\n",
      "b'Skipping line 1594217: expected 15 fields, saw 22\\nSkipping line 1612264: expected 15 fields, saw 22\\nSkipping line 1615907: expected 15 fields, saw 22\\nSkipping line 1621859: expected 15 fields, saw 22\\n'\n",
      "b'Skipping line 1653542: expected 15 fields, saw 22\\nSkipping line 1671537: expected 15 fields, saw 22\\nSkipping line 1672879: expected 15 fields, saw 22\\nSkipping line 1674523: expected 15 fields, saw 22\\nSkipping line 1677355: expected 15 fields, saw 22\\nSkipping line 1703907: expected 15 fields, saw 22\\n'\n",
      "b'Skipping line 1713046: expected 15 fields, saw 22\\nSkipping line 1722982: expected 15 fields, saw 22\\nSkipping line 1727290: expected 15 fields, saw 22\\nSkipping line 1744482: expected 15 fields, saw 22\\n'\n",
      "b'Skipping line 1803858: expected 15 fields, saw 22\\nSkipping line 1810069: expected 15 fields, saw 22\\nSkipping line 1829751: expected 15 fields, saw 22\\nSkipping line 1831699: expected 15 fields, saw 22\\n'\n",
      "b'Skipping line 1863131: expected 15 fields, saw 22\\nSkipping line 1867917: expected 15 fields, saw 22\\nSkipping line 1874790: expected 15 fields, saw 22\\nSkipping line 1879952: expected 15 fields, saw 22\\nSkipping line 1880501: expected 15 fields, saw 22\\nSkipping line 1886655: expected 15 fields, saw 22\\nSkipping line 1887888: expected 15 fields, saw 22\\nSkipping line 1894286: expected 15 fields, saw 22\\nSkipping line 1895400: expected 15 fields, saw 22\\n'\n",
      "b'Skipping line 1904040: expected 15 fields, saw 22\\nSkipping line 1907604: expected 15 fields, saw 22\\nSkipping line 1915739: expected 15 fields, saw 22\\nSkipping line 1921514: expected 15 fields, saw 22\\nSkipping line 1939428: expected 15 fields, saw 22\\nSkipping line 1944342: expected 15 fields, saw 22\\nSkipping line 1949699: expected 15 fields, saw 22\\nSkipping line 1961872: expected 15 fields, saw 22\\n'\n"
     ]
    },
    {
     "name": "stderr",
     "output_type": "stream",
     "text": [
      "b'Skipping line 1968846: expected 15 fields, saw 22\\nSkipping line 1999941: expected 15 fields, saw 22\\nSkipping line 2001492: expected 15 fields, saw 22\\nSkipping line 2011204: expected 15 fields, saw 22\\nSkipping line 2025295: expected 15 fields, saw 22\\n'\n",
      "b'Skipping line 2041266: expected 15 fields, saw 22\\nSkipping line 2073314: expected 15 fields, saw 22\\nSkipping line 2080133: expected 15 fields, saw 22\\nSkipping line 2088521: expected 15 fields, saw 22\\n'\n",
      "b'Skipping line 2103490: expected 15 fields, saw 22\\nSkipping line 2115278: expected 15 fields, saw 22\\nSkipping line 2153174: expected 15 fields, saw 22\\nSkipping line 2161731: expected 15 fields, saw 22\\n'\n",
      "b'Skipping line 2165250: expected 15 fields, saw 22\\nSkipping line 2175132: expected 15 fields, saw 22\\nSkipping line 2206817: expected 15 fields, saw 22\\nSkipping line 2215848: expected 15 fields, saw 22\\nSkipping line 2223811: expected 15 fields, saw 22\\n'\n",
      "b'Skipping line 2257265: expected 15 fields, saw 22\\nSkipping line 2259163: expected 15 fields, saw 22\\nSkipping line 2263291: expected 15 fields, saw 22\\n'\n",
      "b'Skipping line 2301943: expected 15 fields, saw 22\\nSkipping line 2304371: expected 15 fields, saw 22\\nSkipping line 2306015: expected 15 fields, saw 22\\nSkipping line 2312186: expected 15 fields, saw 22\\nSkipping line 2314740: expected 15 fields, saw 22\\nSkipping line 2317754: expected 15 fields, saw 22\\n'\n",
      "b'Skipping line 2383514: expected 15 fields, saw 22\\n'\n",
      "b'Skipping line 2449763: expected 15 fields, saw 22\\n'\n",
      "b'Skipping line 2589323: expected 15 fields, saw 22\\n'\n",
      "b'Skipping line 2775036: expected 15 fields, saw 22\\n'\n",
      "b'Skipping line 2935174: expected 15 fields, saw 22\\n'\n",
      "b'Skipping line 3078830: expected 15 fields, saw 22\\n'\n",
      "b'Skipping line 3123091: expected 15 fields, saw 22\\n'\n",
      "b'Skipping line 3185533: expected 15 fields, saw 22\\n'\n",
      "b'Skipping line 4150395: expected 15 fields, saw 22\\n'\n",
      "b'Skipping line 4748401: expected 15 fields, saw 22\\n'\n"
     ]
    },
    {
     "data": {
      "text/html": [
       "<div>\n",
       "<style scoped>\n",
       "    .dataframe tbody tr th:only-of-type {\n",
       "        vertical-align: middle;\n",
       "    }\n",
       "\n",
       "    .dataframe tbody tr th {\n",
       "        vertical-align: top;\n",
       "    }\n",
       "\n",
       "    .dataframe thead th {\n",
       "        text-align: right;\n",
       "    }\n",
       "</style>\n",
       "<table border=\"1\" class=\"dataframe\">\n",
       "  <thead>\n",
       "    <tr style=\"text-align: right;\">\n",
       "      <th></th>\n",
       "      <th>marketplace</th>\n",
       "      <th>customer_id</th>\n",
       "      <th>review_id</th>\n",
       "      <th>product_id</th>\n",
       "      <th>product_parent</th>\n",
       "      <th>product_title</th>\n",
       "      <th>product_category</th>\n",
       "      <th>star_rating</th>\n",
       "      <th>helpful_votes</th>\n",
       "      <th>total_votes</th>\n",
       "      <th>vine</th>\n",
       "      <th>verified_purchase</th>\n",
       "      <th>review_headline</th>\n",
       "      <th>review_body</th>\n",
       "      <th>review_date</th>\n",
       "    </tr>\n",
       "  </thead>\n",
       "  <tbody>\n",
       "    <tr>\n",
       "      <th>0</th>\n",
       "      <td>US</td>\n",
       "      <td>37000337</td>\n",
       "      <td>R3DT59XH7HXR9K</td>\n",
       "      <td>B00303FI0G</td>\n",
       "      <td>529320574</td>\n",
       "      <td>Arthur Court Paper Towel Holder</td>\n",
       "      <td>Kitchen</td>\n",
       "      <td>5.0</td>\n",
       "      <td>0.0</td>\n",
       "      <td>0.0</td>\n",
       "      <td>N</td>\n",
       "      <td>Y</td>\n",
       "      <td>Beautiful. Looks great on counter</td>\n",
       "      <td>Beautiful.  Looks great on counter.</td>\n",
       "      <td>2015-08-31</td>\n",
       "    </tr>\n",
       "    <tr>\n",
       "      <th>1</th>\n",
       "      <td>US</td>\n",
       "      <td>15272914</td>\n",
       "      <td>R1LFS11BNASSU8</td>\n",
       "      <td>B00JCZKZN6</td>\n",
       "      <td>274237558</td>\n",
       "      <td>Olde Thompson Bavaria Glass Salt and Pepper Mi...</td>\n",
       "      <td>Kitchen</td>\n",
       "      <td>5.0</td>\n",
       "      <td>0.0</td>\n",
       "      <td>1.0</td>\n",
       "      <td>N</td>\n",
       "      <td>Y</td>\n",
       "      <td>Awesome &amp; Self-ness</td>\n",
       "      <td>I personally have 5 days sets and have also bo...</td>\n",
       "      <td>2015-08-31</td>\n",
       "    </tr>\n",
       "    <tr>\n",
       "      <th>2</th>\n",
       "      <td>US</td>\n",
       "      <td>36137863</td>\n",
       "      <td>R296RT05AG0AF6</td>\n",
       "      <td>B00JLIKA5C</td>\n",
       "      <td>544675303</td>\n",
       "      <td>Progressive International PL8 Professional Man...</td>\n",
       "      <td>Kitchen</td>\n",
       "      <td>5.0</td>\n",
       "      <td>0.0</td>\n",
       "      <td>0.0</td>\n",
       "      <td>N</td>\n",
       "      <td>Y</td>\n",
       "      <td>Fabulous and worth every penny</td>\n",
       "      <td>Fabulous and worth every penny. Used for clean...</td>\n",
       "      <td>2015-08-31</td>\n",
       "    </tr>\n",
       "    <tr>\n",
       "      <th>3</th>\n",
       "      <td>US</td>\n",
       "      <td>43311049</td>\n",
       "      <td>R3V37XDZ7ZCI3L</td>\n",
       "      <td>B000GBNB8G</td>\n",
       "      <td>491599489</td>\n",
       "      <td>Zyliss Jumbo Garlic Press</td>\n",
       "      <td>Kitchen</td>\n",
       "      <td>5.0</td>\n",
       "      <td>0.0</td>\n",
       "      <td>1.0</td>\n",
       "      <td>N</td>\n",
       "      <td>Y</td>\n",
       "      <td>Five Stars</td>\n",
       "      <td>A must if you love garlic on tomato marinara s...</td>\n",
       "      <td>2015-08-31</td>\n",
       "    </tr>\n",
       "    <tr>\n",
       "      <th>4</th>\n",
       "      <td>US</td>\n",
       "      <td>13763148</td>\n",
       "      <td>R14GU232NQFYX2</td>\n",
       "      <td>B00VJ5KX9S</td>\n",
       "      <td>353790155</td>\n",
       "      <td>1 X Premier Pizza Cutter - Stainless Steel 14\"...</td>\n",
       "      <td>Kitchen</td>\n",
       "      <td>5.0</td>\n",
       "      <td>0.0</td>\n",
       "      <td>0.0</td>\n",
       "      <td>N</td>\n",
       "      <td>Y</td>\n",
       "      <td>Better than sex</td>\n",
       "      <td>Worth every penny! Buy one now and be a pizza ...</td>\n",
       "      <td>2015-08-31</td>\n",
       "    </tr>\n",
       "  </tbody>\n",
       "</table>\n",
       "</div>"
      ],
      "text/plain": [
       "  marketplace  customer_id       review_id  product_id  product_parent  \\\n",
       "0          US     37000337  R3DT59XH7HXR9K  B00303FI0G       529320574   \n",
       "1          US     15272914  R1LFS11BNASSU8  B00JCZKZN6       274237558   \n",
       "2          US     36137863  R296RT05AG0AF6  B00JLIKA5C       544675303   \n",
       "3          US     43311049  R3V37XDZ7ZCI3L  B000GBNB8G       491599489   \n",
       "4          US     13763148  R14GU232NQFYX2  B00VJ5KX9S       353790155   \n",
       "\n",
       "                                       product_title product_category  \\\n",
       "0                    Arthur Court Paper Towel Holder          Kitchen   \n",
       "1  Olde Thompson Bavaria Glass Salt and Pepper Mi...          Kitchen   \n",
       "2  Progressive International PL8 Professional Man...          Kitchen   \n",
       "3                          Zyliss Jumbo Garlic Press          Kitchen   \n",
       "4  1 X Premier Pizza Cutter - Stainless Steel 14\"...          Kitchen   \n",
       "\n",
       "   star_rating  helpful_votes  total_votes vine verified_purchase  \\\n",
       "0          5.0            0.0          0.0    N                 Y   \n",
       "1          5.0            0.0          1.0    N                 Y   \n",
       "2          5.0            0.0          0.0    N                 Y   \n",
       "3          5.0            0.0          1.0    N                 Y   \n",
       "4          5.0            0.0          0.0    N                 Y   \n",
       "\n",
       "                     review_headline  \\\n",
       "0  Beautiful. Looks great on counter   \n",
       "1                Awesome & Self-ness   \n",
       "2     Fabulous and worth every penny   \n",
       "3                         Five Stars   \n",
       "4                    Better than sex   \n",
       "\n",
       "                                         review_body review_date  \n",
       "0                Beautiful.  Looks great on counter.  2015-08-31  \n",
       "1  I personally have 5 days sets and have also bo...  2015-08-31  \n",
       "2  Fabulous and worth every penny. Used for clean...  2015-08-31  \n",
       "3  A must if you love garlic on tomato marinara s...  2015-08-31  \n",
       "4  Worth every penny! Buy one now and be a pizza ...  2015-08-31  "
      ]
     },
     "execution_count": 2,
     "metadata": {},
     "output_type": "execute_result"
    }
   ],
   "source": [
    " \"\"\"\n",
    " Here we are reading the data from tsv file as pandas dataframe\n",
    " We use ''\\t' to seperate columns by a tab and \"error_bad_lines = False\" to drop bad lines from the DataFrame\n",
    " \n",
    " \"\"\"  \n",
    "text_data = pd.read_csv(\"data.tsv\",error_bad_lines = False, sep = '\\t')\n",
    "text_data.head()"
   ]
  },
  {
   "cell_type": "markdown",
   "metadata": {},
   "source": [
    "## Keep Reviews and Ratings"
   ]
  },
  {
   "cell_type": "code",
   "execution_count": 3,
   "metadata": {},
   "outputs": [
    {
     "name": "stdout",
     "output_type": "stream",
     "text": [
      "\n",
      "xxxxx Three sample reviews with corresponding ratings xxxxx\n",
      "\n",
      "                                               review_body  star_rating\n",
      "3959067  The quality is high, the Capacity is suitable....          5.0\n",
      "4044080  Looks very nice and is a good size, but I find...          3.0\n",
      "4354222  I have owned a ditcenaid for 18 years and have...          5.0\n",
      "\n",
      "====== Statistics of the ratings before preprocessing =======\n",
      "\n",
      "5.0    3124595\n",
      "4.0     731701\n",
      "1.0     426870\n",
      "3.0     349539\n",
      "2.0     241939\n",
      "Name: star_rating, dtype: int64\n"
     ]
    }
   ],
   "source": [
    "    #We are using dropna to look for missing values in the rows which has no review body and drop the corresponding rows.\n",
    "    \n",
    "    text_data.dropna(subset = ['review_body'], inplace= True)\n",
    "    text_data.dropna(subset = ['star_rating'], inplace= True)\n",
    "    \n",
    "    \n",
    "    # We Keep only the reviews and ratings of the initial data\n",
    "    text_data = text_data[[\"review_body\",\"star_rating\"]]\n",
    "    \n",
    "    # We are including 3 sample reviews with the corresponding rating\n",
    "    print (\"\\nxxxxx Three sample reviews with corresponding ratings xxxxx\\n\")\n",
    "    print (text_data.sample(3))\n",
    "    \n",
    "    # We are reporting statistics of the ratings\n",
    "    star_counts = text_data[\"star_rating\"].value_counts()\n",
    "    print(\"\\n====== Statistics of the ratings before preprocessing =======\\n\")\n",
    "    print(star_counts)"
   ]
  },
  {
   "cell_type": "markdown",
   "metadata": {},
   "source": [
    "# Labelling Reviews:\n",
    "## The reviews with rating 4,5 are labelled to be 1 and 1,2 are labelled as 0. Discard the reviews with rating 3'"
   ]
  },
  {
   "cell_type": "code",
   "execution_count": 4,
   "metadata": {},
   "outputs": [
    {
     "name": "stdout",
     "output_type": "stream",
     "text": [
      "\n",
      "====== Counts of all review labels before removing the reviews with rating 3 =======\n",
      "\n",
      " 1    3856296\n",
      " 0     668809\n",
      "-1     349539\n",
      "Name: label, dtype: int64\n",
      "\n",
      "====== Counts of all review labels after removing the reviews with rating 3 =======\n",
      "\n",
      "1    3856296\n",
      "0     668809\n",
      "Name: label, dtype: int64\n"
     ]
    }
   ],
   "source": [
    "# Using np.where we are putting conditions to label the ratings >=4 as 1 and ratins <=2 as 0. \n",
    "#The remainign ratings which is labelled as 3 will be labelled as -1.\n",
    "\n",
    "text_data['label'] = np.where(text_data[\"star_rating\"] >=4,1, np.where(text_data[\"star_rating\"] <= 2,0,-1))\n",
    "rating_count = text_data['label'].value_counts()\n",
    "\n",
    "#We are getting the counts of all review labels before removing the reviews with rating 3\n",
    "print(\"\\n====== Counts of all review labels before removing the reviews with rating 3 =======\\n\")\n",
    "print(rating_count)\n",
    "\n",
    "#Discarding the reviews with rating 3\n",
    "text_data = text_data[text_data[\"label\"]!= -1]\n",
    "\n",
    "#We are getting the counts of all review labels after removing the reviews with rating 3\n",
    "print(\"\\n====== Counts of all review labels after removing the reviews with rating 3 =======\\n\")\n",
    "print(text_data['label'].value_counts())\n"
   ]
  },
  {
   "cell_type": "markdown",
   "metadata": {},
   "source": [
    " ## We select 200000 reviews randomly with 100,000 positive and 100,000 negative reviews.\n",
    "\n"
   ]
  },
  {
   "cell_type": "code",
   "execution_count": 5,
   "metadata": {},
   "outputs": [
    {
     "name": "stdout",
     "output_type": "stream",
     "text": [
      "                                               review_body  star_rating  label\n",
      "26       I was having a hard time opening small lids on...          5.0      1\n",
      "54       The wood broke after a week of use. The metal ...          1.0      0\n",
      "86       Lite weight compared to my old stanly thermos....          5.0      1\n",
      "88       I have tried to get this canner to work for ma...          1.0      0\n",
      "92       The lid doesn't hold the container.  It only w...          2.0      0\n",
      "...                                                    ...          ...    ...\n",
      "4874673  I don't go for kitchen gadgets. Many of them t...          5.0      1\n",
      "4874691  We've tried a few of these because they look l...          1.0      0\n",
      "4874726  Though Maxim is a fine company, this particula...          2.0      0\n",
      "4874730  We purchased a Henckels Four-Star set about te...          5.0      1\n",
      "4874734  So far, my wife and I have made a batch of min...          5.0      1\n",
      "\n",
      "[200000 rows x 3 columns]\n",
      "322.10973\n"
     ]
    }
   ],
   "source": [
    "#We select sample of 100,000 positive and 100,000 negative reviews\n",
    "negative = text_data.label[text_data.label.eq(0)].sample(100000).index\n",
    "positive = text_data.label[text_data.label.eq(1)].sample(100000).index\n",
    "\n",
    "#We combine both the selected samples\n",
    "text_data = text_data.loc[negative.union(positive)]\n",
    "print(text_data)\n",
    "\n",
    "# We are getting mean of each row based on characters in each row and then finding the mean of all the rows\n",
    "review_mean = text_data.review_body.apply(lambda x : np.mean(len(str(x)))).mean()\n",
    "# print 3 sample reviews\n",
    "print(review_mean)                                                                                   \n",
    "                                          \n",
    "                                                             \n",
    "                                                             \n",
    "\n",
    "\n"
   ]
  },
  {
   "cell_type": "markdown",
   "metadata": {},
   "source": [
    "# Data Cleaning\n",
    "\n",
    "## Convert the all reviews into the lower case."
   ]
  },
  {
   "cell_type": "code",
   "execution_count": 6,
   "metadata": {},
   "outputs": [],
   "source": [
    "#We use str.lower() to convert all the characters into lower characters\n",
    "text_data[\"review_body\"] = text_data[\"review_body\"].str.lower()\n"
   ]
  },
  {
   "cell_type": "markdown",
   "metadata": {},
   "source": [
    " ## Remove the HTML and URLs from the reviews"
   ]
  },
  {
   "cell_type": "code",
   "execution_count": 7,
   "metadata": {},
   "outputs": [
    {
     "name": "stderr",
     "output_type": "stream",
     "text": [
      "/Users/shreenidhihegde/opt/anaconda3/envs/NLP/lib/python3.9/site-packages/bs4/__init__.py:417: MarkupResemblesLocatorWarning: \"http://www.amazon.com/review/create-review/ref=cm_cr_dp_wrt_summary?ie=utf8&asin=b00xp0d9p0\" looks like a URL. Beautiful Soup is not an HTTP client. You should probably use an HTTP client like requests to get the document behind the URL, and feed that document to Beautiful Soup.\n",
      "  warnings.warn(\n",
      "/Users/shreenidhihegde/opt/anaconda3/envs/NLP/lib/python3.9/site-packages/bs4/__init__.py:417: MarkupResemblesLocatorWarning: \"http://www.amazon.com/review/create-review?ie=utf8&asin=b00si28464\" looks like a URL. Beautiful Soup is not an HTTP client. You should probably use an HTTP client like requests to get the document behind the URL, and feed that document to Beautiful Soup.\n",
      "  warnings.warn(\n",
      "/Users/shreenidhihegde/opt/anaconda3/envs/NLP/lib/python3.9/site-packages/bs4/__init__.py:417: MarkupResemblesLocatorWarning: \"http://www.consumerreports.org/cro/magazine-archive/2011/november/appliances/can-you-stop-stirring/overview/index.htm\" looks like a URL. Beautiful Soup is not an HTTP client. You should probably use an HTTP client like requests to get the document behind the URL, and feed that document to Beautiful Soup.\n",
      "  warnings.warn(\n",
      "/var/folders/wg/9xbdgjcd5r3_qdm7vt018l980000gn/T/ipykernel_1405/2416109747.py:5: FutureWarning: The default value of regex will change from True to False in a future version.\n",
      "  text_data[\"review_body\"]= text_data[\"review_body\"].str.replace(r'\\s*https?://\\S+(\\s+|$)', ' ').str.strip()\n"
     ]
    }
   ],
   "source": [
    "#We use Beatiful soup to remove all the HTML Tags from the dataframe\n",
    "text_data[\"review_body\"] = text_data[\"review_body\"].apply(lambda x: BeautifulSoup(str(x)).get_text())\n",
    "\n",
    "# We are here removing the URLs from the reviews\n",
    "text_data[\"review_body\"]= text_data[\"review_body\"].str.replace(r'\\s*https?://\\S+(\\s+|$)', ' ').str.strip()\n"
   ]
  },
  {
   "cell_type": "markdown",
   "metadata": {},
   "source": [
    "## remove non-alphabetical characters"
   ]
  },
  {
   "cell_type": "code",
   "execution_count": 8,
   "metadata": {},
   "outputs": [],
   "source": [
    "#First we remove all the words starts with digits\n",
    "text_data[\"review_body\"] = text_data[\"review_body\"].apply(lambda x: re.sub(r\"[^\\D']+\", \" \", str(x), flags=re.UNICODE))\n",
    "\n",
    "#Next we remove all the words which starts with non alphabetic characters\n",
    "text_data[\"review_body\"] = text_data[\"review_body\"].apply(lambda x: re.sub(r\"[^\\w']+\", \" \", str(x), flags=re.UNICODE))\n",
    "\n",
    "# print(text_data.sample(10))\n"
   ]
  },
  {
   "cell_type": "markdown",
   "metadata": {},
   "source": [
    "## Remove the extra spaces between the words"
   ]
  },
  {
   "cell_type": "code",
   "execution_count": 9,
   "metadata": {},
   "outputs": [
    {
     "data": {
      "text/plain": [
       "26         i was having a hard time opening small lids on...\n",
       "54         the wood broke after a week of use the metal l...\n",
       "86         lite weight compared to my old stanly thermos ...\n",
       "88         i have tried to get this canner to work for ma...\n",
       "92         the lid doesn't hold the container it only wor...\n",
       "                                 ...                        \n",
       "4874673    i don't go for kitchen gadgets many of them ta...\n",
       "4874691    we've tried a few of these because they look l...\n",
       "4874726    though maxim is a fine company this particular...\n",
       "4874730    we purchased a henckels four star set about te...\n",
       "4874734    so far my wife and i have made a batch of mint...\n",
       "Name: review_body, Length: 200000, dtype: object"
      ]
     },
     "execution_count": 9,
     "metadata": {},
     "output_type": "execute_result"
    }
   ],
   "source": [
    "#We remove the extra spaces from the dataset\n",
    "text_data[\"review_body\"] = text_data.review_body.replace('\\s+', ' ', regex=True)\n",
    "text_data[\"review_body\"]"
   ]
  },
  {
   "cell_type": "markdown",
   "metadata": {},
   "source": [
    "## perform contractions on the reviews."
   ]
  },
  {
   "cell_type": "code",
   "execution_count": 10,
   "metadata": {},
   "outputs": [],
   "source": [
    "#We perform contractions using contractions.fix\n",
    "\n",
    "def contractionfunction(i):\n",
    "    i = i.apply(lambda x: contractions.fix(x))\n",
    "    return i\n",
    "\n",
    "text_data[\"review_body\"] = contractionfunction(text_data[\"review_body\"])\n",
    "\n",
    "    "
   ]
  },
  {
   "cell_type": "markdown",
   "metadata": {},
   "source": [
    "# Pre-processing"
   ]
  },
  {
   "cell_type": "markdown",
   "metadata": {},
   "source": [
    "## remove the stop words "
   ]
  },
  {
   "cell_type": "code",
   "execution_count": 11,
   "metadata": {},
   "outputs": [],
   "source": [
    "# We are removing stop words \n",
    "\n",
    "from nltk.corpus import stopwords\n",
    "stop_words = set(stopwords.words('english'))\n",
    "\n",
    "text_data[\"review_body\"] = text_data[\"review_body\"].apply(lambda x: \" \".join([i for i in x.split() if i not in stop_words]))\n",
    "\n",
    "\n",
    "\n",
    "\n",
    "\n",
    " "
   ]
  },
  {
   "cell_type": "markdown",
   "metadata": {},
   "source": [
    "## perform lemmatization  "
   ]
  },
  {
   "cell_type": "code",
   "execution_count": 75,
   "metadata": {},
   "outputs": [
    {
     "name": "stdout",
     "output_type": "stream",
     "text": [
      "207.01535\n",
      "1514186    bought gift christmas present brother. loved c...\n",
      "4187605    worst dishwasher! 2 years, started getting \\\\\"...\n",
      "4158822    sugar bowl perfect. smaller size expected, hol...\n",
      "Name: review_body, dtype: object\n"
     ]
    }
   ],
   "source": [
    "#We perform lemmatization on the data\n",
    "\n",
    "from nltk.stem import WordNetLemmatizer\n",
    "lemmatizer = WordNetLemmatizer()\n",
    "text_data[\"review_body\"] = text_data[\"review_body\"].apply(lambda x: \" \".join(lemmatizer.lemmatize(i) for i in x.split()))\n",
    "text_data[\"review_body\"]\n",
    "\n",
    "review_mean = text_data.review_body.apply(lambda x : np.mean(len(str(x)))).mean()\n",
    "print(review_mean)\n",
    "\n",
    "\n",
    "print(text_data[\"review_body\"].sample(3))\n",
    "\n",
    "\n"
   ]
  },
  {
   "cell_type": "markdown",
   "metadata": {},
   "source": [
    "# TF-IDF Feature Extraction"
   ]
  },
  {
   "cell_type": "code",
   "execution_count": 12,
   "metadata": {},
   "outputs": [],
   "source": [
    "# We use train_test_split from sklearn to split the data into 80% training and 20% testing sets\n",
    "from sklearn.model_selection import train_test_split \n",
    "from sklearn.feature_extraction.text import TfidfVectorizer\n",
    "X_train, X_test, y_train, y_test = train_test_split(text_data[\"review_body\"], text_data[\"label\"], test_size=0.33, random_state=42)\n",
    "\n",
    "#We use ....\n",
    "vectorizer = TfidfVectorizer(max_features=2000, min_df=0, max_df=0.7)\n",
    "Xtrain = vectorizer.fit_transform(X_train)\n",
    "Xtest = vectorizer.transform(X_test)\n",
    "    "
   ]
  },
  {
   "cell_type": "code",
   "execution_count": 13,
   "metadata": {},
   "outputs": [],
   "source": [
    "# we standardize the data using StandardScaler from sklearn\n",
    "from sklearn.preprocessing import StandardScaler\n",
    "\n",
    "#Create the instance\n",
    "sc = StandardScaler(with_mean=False)\n",
    "\n",
    "#We fit the scaler to the training feauture set only\n",
    "sc.fit(Xtrain)\n",
    "\n",
    "#Scale or Transform the training and the testing tests using the scaler that was fitted to training data\n",
    "Xtrain_std = sc.transform(Xtrain)\n",
    "Xtest_std = sc.transform(Xtest)"
   ]
  },
  {
   "cell_type": "code",
   "execution_count": 58,
   "metadata": {},
   "outputs": [
    {
     "name": "stdout",
     "output_type": "stream",
     "text": [
      "  (0, 1987)\t48.15104885487249\n",
      "  (0, 1876)\t4.55769444080691\n",
      "  (0, 1385)\t25.897171026031252\n",
      "  (0, 999)\t7.105163181861919\n",
      "  (0, 817)\t10.77701893771047\n",
      "  (0, 592)\t6.0632592242074015\n",
      "  (0, 584)\t8.176619328694843\n",
      "  (0, 448)\t6.5091803440489695\n",
      "  (1, 1988)\t3.5104122951121415\n",
      "  (1, 1978)\t2.24293689323711\n",
      "  (1, 1876)\t3.0038967417704385\n",
      "  (1, 1857)\t10.679589913550817\n",
      "  (1, 1796)\t2.401934242251563\n",
      "  (1, 1480)\t5.052611058356096\n",
      "  (1, 1463)\t19.943686312547175\n",
      "  (1, 1328)\t1.804421062889562\n",
      "  (1, 993)\t11.69426902705059\n",
      "  (1, 769)\t6.125781588674803\n",
      "  (1, 762)\t1.2372824030983103\n",
      "  (1, 750)\t15.94564098916578\n",
      "  (1, 683)\t15.931870701855095\n",
      "  (1, 590)\t10.86683832943603\n",
      "  (1, 538)\t5.7316319392821535\n",
      "  (1, 524)\t16.078139774218602\n",
      "  (1, 448)\t4.2900869904791525\n",
      "  :\t:\n",
      "  (65999, 1967)\t1.4543168885367872\n",
      "  (65999, 1957)\t6.060530221728638\n",
      "  (65999, 1954)\t11.407722182481107\n",
      "  (65999, 1926)\t4.062192754228056\n",
      "  (65999, 1876)\t2.7485866147112805\n",
      "  (65999, 1850)\t10.16308785734334\n",
      "  (65999, 1796)\t2.1977867001441207\n",
      "  (65999, 1531)\t6.297350777662396\n",
      "  (65999, 1346)\t4.445666671560178\n",
      "  (65999, 1344)\t12.879225965559023\n",
      "  (65999, 1163)\t9.41786248639071\n",
      "  (65999, 1119)\t9.060464719833499\n",
      "  (65999, 1118)\t4.585208644640254\n",
      "  (65999, 1117)\t4.418278062205223\n",
      "  (65999, 1025)\t5.62014300693621\n",
      "  (65999, 904)\t3.8333305790096768\n",
      "  (65999, 762)\t1.13212208811461\n",
      "  (65999, 743)\t3.0539900605363335\n",
      "  (65999, 739)\t6.084032886428176\n",
      "  (65999, 737)\t3.0275753231993607\n",
      "  (65999, 700)\t6.165739840238198\n",
      "  (65999, 697)\t9.937329207894686\n",
      "  (65999, 539)\t2.401328406224286\n",
      "  (65999, 400)\t7.5537870069047\n",
      "  (65999, 185)\t3.8604862789128327\n"
     ]
    }
   ],
   "source": [
    "print(Xtest_std)"
   ]
  },
  {
   "cell_type": "markdown",
   "metadata": {},
   "source": [
    "# Perceptron"
   ]
  },
  {
   "cell_type": "code",
   "execution_count": 14,
   "metadata": {},
   "outputs": [
    {
     "name": "stdout",
     "output_type": "stream",
     "text": [
      "Accuracy:84.78%\n"
     ]
    }
   ],
   "source": [
    "#implementation of perceptron\n",
    "from sklearn.linear_model import Perceptron\n",
    "from sklearn.metrics import accuracy_score\n",
    "\n",
    "# Create a perceptron object with the parameters: 40 iterations (epochs) over the data, and a learning rate of 0.1\n",
    "ppn = Perceptron(max_iter=40, eta0=0.1, random_state=0)\n",
    "\n",
    "# Fit the model to the standardized data\n",
    "ppn.fit(Xtrain_std, y_train)\n",
    "\n",
    "# Apply the trained perceptron on the  data to make predicts for the test data\n",
    "y_pred = ppn.predict(Xtest_std)\n",
    "\n",
    "#We measure the performance using the \"accuracy_score\"\n",
    "print('Accuracy:{0:.2f}%' .format(accuracy_score(y_test, y_pred)*100))"
   ]
  },
  {
   "cell_type": "markdown",
   "metadata": {},
   "source": [
    "# SVM"
   ]
  },
  {
   "cell_type": "code",
   "execution_count": 15,
   "metadata": {},
   "outputs": [
    {
     "name": "stdout",
     "output_type": "stream",
     "text": [
      "Accuracy:84.99%\n"
     ]
    },
    {
     "name": "stderr",
     "output_type": "stream",
     "text": [
      "/Users/shreenidhihegde/opt/anaconda3/envs/NLP/lib/python3.9/site-packages/sklearn/svm/_base.py:985: ConvergenceWarning: Liblinear failed to converge, increase the number of iterations.\n",
      "  warnings.warn(\"Liblinear failed to converge, increase \"\n"
     ]
    }
   ],
   "source": [
    "#implementation of SVM\n",
    "from sklearn import svm\n",
    "\n",
    "#Create a Classifier for svm\n",
    "clf = svm.LinearSVC() # We are using Linear Kernel\n",
    "\n",
    "#Train the model using the training sets\n",
    "clf.fit(Xtrain_std, y_train)\n",
    "\n",
    "#Apply the trained svm on Xtrain_std data to make predictions for the test data\n",
    "y_pred = clf.predict(Xtest_std)\n",
    "\n",
    "print('Accuracy:{0:.2f}%' .format(accuracy_score(y_test, y_pred)*100))"
   ]
  },
  {
   "cell_type": "markdown",
   "metadata": {},
   "source": [
    "# Logistic Regression"
   ]
  },
  {
   "cell_type": "code",
   "execution_count": 16,
   "metadata": {},
   "outputs": [
    {
     "name": "stdout",
     "output_type": "stream",
     "text": [
      "Accuracy:89.28%\n"
     ]
    }
   ],
   "source": [
    "from sklearn.linear_model import LogisticRegression\n",
    "\n",
    "# instantiate the model (using the default parameters)\n",
    "logreg = LogisticRegression()\n",
    "\n",
    "# fit the model with data\n",
    "logreg.fit(Xtrain_std,y_train)\n",
    "\n",
    "#Apply the trained Logistic Regression on Xtrain_std data to make predictions for the test data\n",
    "y_pred=logreg.predict(Xtest_std)\n",
    "\n",
    "from sklearn import metrics\n",
    "cnf_matrix = metrics.confusion_matrix(y_test, y_pred)\n",
    "cnf_matrix\n",
    "print('Accuracy:{0:.2f}%' .format(accuracy_score(y_test, y_pred)*100))"
   ]
  },
  {
   "cell_type": "markdown",
   "metadata": {},
   "source": [
    "# Naive Bayes"
   ]
  },
  {
   "cell_type": "code",
   "execution_count": 17,
   "metadata": {},
   "outputs": [
    {
     "name": "stdout",
     "output_type": "stream",
     "text": [
      "[0 1 0 ... 0 1 1]\n",
      "Accuracy:84.88%\n"
     ]
    }
   ],
   "source": [
    "#Import Gaussian Naive Bayes model\n",
    "from sklearn.naive_bayes import MultinomialNB\n",
    "\n",
    "#Create a Gaussian Classifier\n",
    "model = MultinomialNB()\n",
    "\n",
    "# Train the model using the training sets\n",
    "model.fit(Xtrain_std, y_train)\n",
    "\n",
    "#Predict Output\n",
    "y_pred = model.predict(Xtest_std) # 0:Overcast, 2:Mild\n",
    "print(y_pred)\n",
    "print('Accuracy:{0:.2f}%' .format(accuracy_score(y_test, y_pred)*100))"
   ]
  },
  {
   "cell_type": "code",
   "execution_count": null,
   "metadata": {},
   "outputs": [],
   "source": []
  }
 ],
 "metadata": {
  "kernelspec": {
   "display_name": "Python 3 (ipykernel)",
   "language": "python",
   "name": "python3"
  },
  "language_info": {
   "codemirror_mode": {
    "name": "ipython",
    "version": 3
   },
   "file_extension": ".py",
   "mimetype": "text/x-python",
   "name": "python",
   "nbconvert_exporter": "python",
   "pygments_lexer": "ipython3",
   "version": "3.9.6"
  }
 },
 "nbformat": 4,
 "nbformat_minor": 4
}
